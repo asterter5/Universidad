{
 "cells": [
  {
   "cell_type": "markdown",
   "metadata": {},
   "source": [
    "# Examen Parcial TNUI 2016  \n",
    "\n",
    "Cal entregar aquest mateix notebook \"PrimerParcial2016_NomCognom.ipynb\" amb els exercicis completats\n",
    "\n",
    "### Càrrega de dades\n",
    "\n",
    "No cal realitzar cap modificació en la càrrega de dades. Ja es redueix el dataset per poder treballar-hi còmodament."
   ]
  },
  {
   "cell_type": "code",
   "execution_count": 108,
   "metadata": {
    "collapsed": false
   },
   "outputs": [],
   "source": [
    "# lectura de dades\n",
    "import pandas as pd\n",
    "import numpy as np\n",
    "\n",
    "unames = ['user_id', 'gender', 'age', 'occupation', 'zip']\n",
    "users = pd.read_table('ml-1m/users.dat', sep='::', header=None, names=unames, engine='python')\n",
    "rnames = ['user_id', 'movie_id', 'rating', 'timestamp']\n",
    "ratings = pd.read_table('ml-1m/ratings.dat', sep='::', header=None, names=rnames, engine='python')\n",
    "mnames = ['movie_id', 'title', 'genres']\n",
    "movies = pd.read_table('ml-1m/movies.dat', sep='::', header=None, names=mnames, engine='python')\n",
    "\n",
    "data = pd.merge(pd.merge(ratings, users), movies)"
   ]
  },
  {
   "cell_type": "code",
   "execution_count": 109,
   "metadata": {
    "collapsed": false
   },
   "outputs": [
    {
     "name": "stdout",
     "output_type": "stream",
     "text": [
      "Usuaris: 3699\n",
      "Films: 2318\n",
      "(8462, 10)\n"
     ]
    }
   ],
   "source": [
    "# seleccionem un subconjunt de les dades per treballar més ràpid\n",
    "np.random.seed(42)\n",
    "movielens = data.ix[np.random.choice(data.index, size=10000, replace=False)]\n",
    "print 'Usuaris:', movielens.user_id.nunique()\n",
    "print 'Films:',movielens.movie_id.nunique()\n",
    "# seleccionem les files dels usuaris que tenen al menys 2 ratings\n",
    "\n",
    "user_ids_larger_1 = pd.value_counts(movielens.user_id, sort=False) > 1\n",
    "movielens = movielens[user_ids_larger_1[movielens.user_id].values]\n",
    "print movielens.shape"
   ]
  },
  {
   "cell_type": "code",
   "execution_count": 110,
   "metadata": {
    "collapsed": false
   },
   "outputs": [
    {
     "name": "stdout",
     "output_type": "stream",
     "text": [
      "(5831, 11)\n",
      "(2631, 11)\n",
      "        user_id  movie_id  rating  timestamp gender  age  occupation    zip  \\\n",
      "708108     2899      3268       1  971918661      M   35          14  94133   \n",
      "399844      429      3160       5  976255718      M   18           0  54901   \n",
      "309922     1962      3051       1  974686857      F   18           1  60914   \n",
      "905326     1941      2057       4  974854645      M   35          17  94550   \n",
      "230000     5026        39       3  962578775      M   25          17  92584   \n",
      "\n",
      "                                    title                genres for_testing  \n",
      "708108  Stop! Or My Mom Will Shoot (1992)         Action|Comedy       False  \n",
      "399844                    Magnolia (1999)                 Drama       False  \n",
      "309922           Anywhere But Here (1999)                 Drama       False  \n",
      "905326     Incredible Journey, The (1963)  Adventure|Children's       False  \n",
      "230000                    Clueless (1995)        Comedy|Romance       False  \n"
     ]
    }
   ],
   "source": [
    "# generem subconjunts de training i test\n",
    "import numpy as np\n",
    "\n",
    "def assign_to_set(df):\n",
    "    np.random.seed(42)\n",
    "    sampled_ids = np.random.choice(df.index,\n",
    "                                   size=np.int64(np.ceil(df.index.size * 0.2)),\n",
    "                                   replace=False)\n",
    "    df.ix[sampled_ids, 'for_testing'] = True\n",
    "    return df\n",
    "\n",
    "movielens['for_testing'] = False\n",
    "grouped = movielens.groupby('user_id', group_keys=False).apply(assign_to_set)\n",
    "movielens_train = movielens[grouped.for_testing == False]\n",
    "movielens_test = movielens[grouped.for_testing == True]\n",
    "print movielens_train.shape\n",
    "print movielens_test.shape\n",
    "print movielens_train.tail()"
   ]
  },
  {
   "cell_type": "code",
   "execution_count": 111,
   "metadata": {
    "collapsed": false
   },
   "outputs": [],
   "source": [
    "# definim una funció per avaluar el resultat de la recomanació.\n",
    "def compute_rmse(y_pred, y_true):\n",
    "    return np.sqrt(np.mean(np.power(y_pred - y_true, 2)))\n",
    "\n",
    "def evaluate(estimate):\n",
    "    ids_to_estimate = zip(movielens_test['user_id'], movielens_test['movie_id'])\n",
    "    estimated = np.array([estimate(u,i) for (u,i) in ids_to_estimate])\n",
    "    real = movielens_test.rating.values\n",
    "    return compute_rmse(estimated, real)"
   ]
  },
  {
   "cell_type": "markdown",
   "metadata": {},
   "source": [
    "## Exemple \n",
    "\n",
    "Avaluació d'un a política de recomanació d'un ítem a un usuari basada en donar aleatòriament un a puntuació entre 1 i 5"
   ]
  },
  {
   "cell_type": "code",
   "execution_count": 112,
   "metadata": {
    "collapsed": false
   },
   "outputs": [
    {
     "name": "stdout",
     "output_type": "stream",
     "text": [
      "Error: 1.883635\n"
     ]
    }
   ],
   "source": [
    "def rec1(user_id, item_id,train=movielens_train):\n",
    "    return np.random.choice(range(1,6))\n",
    "\n",
    "print 'Error: %f' % evaluate(rec1)"
   ]
  },
  {
   "cell_type": "markdown",
   "metadata": {},
   "source": [
    "## Exercici 1\n",
    "\n",
    "Quin és el codi postal (columna ``zip``) dels usuaris que té la puntuació mitja més baixa al conjunt de training?"
   ]
  },
  {
   "cell_type": "code",
   "execution_count": 113,
   "metadata": {
    "collapsed": false
   },
   "outputs": [
    {
     "name": "stdout",
     "output_type": "stream",
     "text": [
      "(1.0, '78734')\n"
     ]
    }
   ],
   "source": [
    "# Escriu la solució aquí.\n",
    "lowest_mean = (100.0, None)\n",
    "ratings = pd.DataFrame(movielens_train[['zip','rating']])\n",
    "for code in ratings['zip']: \n",
    "    low = ratings[ratings['zip'] == code]['rating'].mean()\n",
    "    if low < lowest_mean[0]:\n",
    "        lowest_mean = (low, code)\n",
    "print lowest_mean"
   ]
  },
  {
   "cell_type": "markdown",
   "metadata": {},
   "source": [
    "## Exercici 2\n",
    "\n",
    "Avalua la política de recomanació basada en assignar a un ítem la mitja de les recomanacions dels altres usuaris, independentment de la seva semblança. Si no podem fer cap recomanació, retorna 3. Quin és el valor RMSE? Quin és el rating estimat de l'usuari 5988 per l'ítem 11? "
   ]
  },
  {
   "cell_type": "code",
   "execution_count": 114,
   "metadata": {
    "collapsed": false
   },
   "outputs": [
    {
     "name": "stdout",
     "output_type": "stream",
     "text": [
      "Error: 1.124096\n",
      "Estimació per a l'usuari 5988 sobre l'ítem 11 : 3.000000\n"
     ]
    }
   ],
   "source": [
    "# Escriu la solució aquí.\n",
    "def rec2(user_id, item_id,train=movielens_train):\n",
    "    ratings = pd.DataFrame(train[train['movie_id'] == item_id][['user_id','rating']])\n",
    "    \n",
    "    for i in ratings['user_id']:\n",
    "        if i == user_id:\n",
    "            print \"ELIMINATING MYSELF\"\n",
    "            ratings = ratings.drop(user_id)\n",
    "            \n",
    "    if len(ratings) == 0:\n",
    "        return 3\n",
    "    \n",
    "    return ratings['rating'].mean()\n",
    "\n",
    "print 'Error: %f' % evaluate(rec2)\n",
    "print 'Estimació per a l\\'usuari %d sobre l\\'ítem %d : %f' % (5988,11,rec2(5988,11))"
   ]
  },
  {
   "cell_type": "markdown",
   "metadata": {},
   "source": [
    "## Exercici 3\n",
    "\n",
    "Modifica el recomanador anterior de manera que només faci servir usuaris del mateix rang d'edats que el de l'usuari per recomanar-li una pel·lícula. Si no podem fer cap recomanació, retorna 3. Quin és el valor RMSE? Quin rating estimat de l'usuari 5988 per l'ítem 11? "
   ]
  },
  {
   "cell_type": "code",
   "execution_count": 115,
   "metadata": {
    "collapsed": false
   },
   "outputs": [
    {
     "name": "stdout",
     "output_type": "stream",
     "text": [
      "Error: 1.224257\n",
      "Estimació per a l'usuari 5988 sobre l'ítem 11 : 3.000000\n"
     ]
    }
   ],
   "source": [
    "# Escriu la solució aquí.\n",
    "def rec3(user_id, item_id,train=movielens_train):\n",
    "    ratings = pd.DataFrame(train[train['movie_id'] == item_id][['user_id','rating','age']])\n",
    "    age_range = train[train['user_id'] == user_id]['age']\n",
    "    age_range.index = range(len(age_range))\n",
    "    \n",
    "    try:\n",
    "        ratings = ratings[ratings['age'] == age_range[0]]\n",
    "    except:\n",
    "        return 3 #No users within the same age_range left\n",
    "    \n",
    "    for i in ratings['user_id']:\n",
    "        if i == user_id:\n",
    "            print \"ELIMINATING MYSELF\"\n",
    "            ratings = ratings.drop(user_id)\n",
    "\n",
    "    if len(ratings) == 0:\n",
    "        return 3\n",
    " \n",
    "    return ratings['rating'].mean()\n",
    "\n",
    "print 'Error: %f' % evaluate(rec3)\n",
    "print 'Estimació per a l\\'usuari %d sobre l\\'ítem %d : %f' % (5988,11,rec3(5988,11))"
   ]
  },
  {
   "cell_type": "markdown",
   "metadata": {},
   "source": [
    "## Exercici 4\n",
    "\n",
    "Calcula el coeficient de correlació de Pearson entre l'usuari promig dels usuaris de 25 anys i l'usuari promig dels usuaris de 50 en el conjunt d'aprenentatge, considerant els films pels quals tenim puntuació de les dues franges d'edat."
   ]
  },
  {
   "cell_type": "code",
   "execution_count": 118,
   "metadata": {
    "collapsed": false
   },
   "outputs": [
    {
     "name": "stdout",
     "output_type": "stream",
     "text": [
      "Pearson's coeff: [ 0.205994888988 ] (0.20599488898790472, 1.5244977815387076e-08)\n"
     ]
    }
   ],
   "source": [
    "# Escriu la solució aquí.\n",
    "from scipy.stats import pearsonr\n",
    "\n",
    "table_25 = movielens_train[movielens_train['age'] == 25][['movie_id','rating']]\n",
    "table_50 = movielens_train[movielens_train['age'] == 50][['movie_id','rating']]\n",
    "table = pd.merge(table_25,table_50,on='movie_id')\n",
    "\n",
    "rate_x = [0] * len(table) #Saving mean movie ratings from age_range '25' here\n",
    "rate_y = [0] * len(table) #Saving mean movie ratings from age_range '50' here\n",
    "for i, m in zip(range(len(table)), table['movie_id']):\n",
    "    rate_x[i] = table[table['movie_id'] == m]['rating_x'].mean()\n",
    "    rate_y[i] = table[table['movie_id'] == m]['rating_y'].mean()\n",
    "\n",
    "# Càlcul de la correlació de Pearson\n",
    "p_coeff = pearsonr(rate_x, rate_y)\n",
    "print \"Pearson's coeff: [\", p_coeff[0], \"]\", p_coeff "
   ]
  },
  {
   "cell_type": "code",
   "execution_count": null,
   "metadata": {
    "collapsed": true
   },
   "outputs": [],
   "source": []
  }
 ],
 "metadata": {
  "anaconda-cloud": {},
  "kernelspec": {
   "display_name": "Python [Root]",
   "language": "python",
   "name": "Python [Root]"
  },
  "language_info": {
   "codemirror_mode": {
    "name": "ipython",
    "version": 2
   },
   "file_extension": ".py",
   "mimetype": "text/x-python",
   "name": "python",
   "nbconvert_exporter": "python",
   "pygments_lexer": "ipython2",
   "version": "2.7.12"
  }
 },
 "nbformat": 4,
 "nbformat_minor": 0
}
